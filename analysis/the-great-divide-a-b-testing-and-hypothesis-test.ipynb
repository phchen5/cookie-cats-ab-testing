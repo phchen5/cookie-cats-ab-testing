{
 "cells": [
  {
   "cell_type": "markdown",
   "id": "b1d7d1bc",
   "metadata": {
    "papermill": {
     "duration": 0.020443,
     "end_time": "2023-05-18T03:34:36.136958",
     "exception": false,
     "start_time": "2023-05-18T03:34:36.116515",
     "status": "completed"
    },
    "tags": []
   },
   "source": [
    "# 🧪 The Great Divide: A/B Testing and Hypothesis Testing"
   ]
  },
  {
   "cell_type": "markdown",
   "id": "870a192d",
   "metadata": {
    "papermill": {
     "duration": 0.018542,
     "end_time": "2023-05-18T03:34:36.174534",
     "exception": false,
     "start_time": "2023-05-18T03:34:36.155992",
     "status": "completed"
    },
    "tags": []
   },
   "source": [
    "In this notebook, we'll be going over a comprehensive review of **A/B Testing** and the different types of statistical tests used in A/B testing. This may require you to have some prerequisite knowledge on inferential statistics. Fortunately, as a former statistics TA, I wrote an entire series on an introduction to inferential statistics on my blog. Check it out at [benchenblog.com](http://benchenblog.com) if you're interested. Anyways, let's begin shall we!"
   ]
  },
  {
   "cell_type": "markdown",
   "id": "ba920ab9",
   "metadata": {
    "papermill": {
     "duration": 0.018509,
     "end_time": "2023-05-18T03:34:36.212427",
     "exception": false,
     "start_time": "2023-05-18T03:34:36.193918",
     "status": "completed"
    },
    "tags": []
   },
   "source": [
    "# Modules/Packages\n",
    "\n",
    "There's not a whole lot of modules that we'll be using in this notebook, since most statistical tests are packaged in either `scipy` or `statsmodel`. Other than the two, we'll just import the usual ones like `numpy`, `numpy` and `matplotlib`. Personally, I prefer to use `seaborn` for data visualization, so let's import it as well."
   ]
  },
  {
   "cell_type": "code",
   "execution_count": 1,
   "id": "576e486f",
   "metadata": {
    "_cell_guid": "b1076dfc-b9ad-4769-8c92-a6c4dae69d19",
    "_uuid": "8f2839f25d086af736a60e9eeb907d3b93b6e0e5",
    "execution": {
     "iopub.execute_input": "2023-05-18T03:34:36.254354Z",
     "iopub.status.busy": "2023-05-18T03:34:36.253744Z",
     "iopub.status.idle": "2023-05-18T03:34:37.573246Z",
     "shell.execute_reply": "2023-05-18T03:34:37.571725Z"
    },
    "papermill": {
     "duration": 1.343749,
     "end_time": "2023-05-18T03:34:37.576815",
     "exception": false,
     "start_time": "2023-05-18T03:34:36.233066",
     "status": "completed"
    },
    "tags": []
   },
   "outputs": [],
   "source": [
    "#import modules\n",
    "import pandas as pd\n",
    "import numpy as np\n",
    "import matplotlib.pyplot as plt\n",
    "import seaborn as sns\n",
    "sns.set_style(\"darkgrid\")\n",
    "\n",
    "import scipy.stats as stats\n",
    "from statsmodels.stats.proportion import proportions_ztest"
   ]
  },
  {
   "cell_type": "markdown",
   "id": "668aab77",
   "metadata": {
    "papermill": {
     "duration": 0.019586,
     "end_time": "2023-05-18T03:34:37.616089",
     "exception": false,
     "start_time": "2023-05-18T03:34:37.596503",
     "status": "completed"
    },
    "tags": []
   },
   "source": [
    "# Dataset\n",
    "\n",
    "In this notebook, we'll be dealing with a rather simple dataset from the mobile game *Cookie Cats*. It only contains five variables in total, so let's take a look at them one by one. \n",
    "\n",
    "* `userid` - the `userid` is just the user id. Each unique id represents a unique player. Nothing special here.\n",
    "* `version` - `version` takes on two values: `gate_30` and `gate40`. When users are playing this game, they encounter gates that force them to wait a while before they can progress. `gate_30` and `gate_40` just means that the gate is placed at level 30 and level 40, respectively. `version` is also our group of interest. We want to perform A/B testing to determine whether placing the gate at these two different levels would impact player retention and game rounds.\n",
    "* `sum_gamerounds` - the number of game rounds played by the user in the first week of installation\n",
    "* `retention_1` (bool) - whether the user came back to play the game 1 day after installation\n",
    "* `retention_7` (bool) - whether the user came back to play the game 7 days after installation"
   ]
  },
  {
   "cell_type": "code",
   "execution_count": 2,
   "id": "c512dd7c",
   "metadata": {
    "execution": {
     "iopub.execute_input": "2023-05-18T03:34:37.656578Z",
     "iopub.status.busy": "2023-05-18T03:34:37.656118Z",
     "iopub.status.idle": "2023-05-18T03:34:37.798950Z",
     "shell.execute_reply": "2023-05-18T03:34:37.797408Z"
    },
    "papermill": {
     "duration": 0.167704,
     "end_time": "2023-05-18T03:34:37.802760",
     "exception": false,
     "start_time": "2023-05-18T03:34:37.635056",
     "status": "completed"
    },
    "tags": []
   },
   "outputs": [
    {
     "data": {
      "text/html": [
       "<div>\n",
       "<style scoped>\n",
       "    .dataframe tbody tr th:only-of-type {\n",
       "        vertical-align: middle;\n",
       "    }\n",
       "\n",
       "    .dataframe tbody tr th {\n",
       "        vertical-align: top;\n",
       "    }\n",
       "\n",
       "    .dataframe thead th {\n",
       "        text-align: right;\n",
       "    }\n",
       "</style>\n",
       "<table border=\"1\" class=\"dataframe\">\n",
       "  <thead>\n",
       "    <tr style=\"text-align: right;\">\n",
       "      <th></th>\n",
       "      <th>userid</th>\n",
       "      <th>version</th>\n",
       "      <th>sum_gamerounds</th>\n",
       "      <th>retention_1</th>\n",
       "      <th>retention_7</th>\n",
       "    </tr>\n",
       "  </thead>\n",
       "  <tbody>\n",
       "    <tr>\n",
       "      <th>0</th>\n",
       "      <td>116</td>\n",
       "      <td>gate_30</td>\n",
       "      <td>3</td>\n",
       "      <td>False</td>\n",
       "      <td>False</td>\n",
       "    </tr>\n",
       "    <tr>\n",
       "      <th>1</th>\n",
       "      <td>337</td>\n",
       "      <td>gate_30</td>\n",
       "      <td>38</td>\n",
       "      <td>True</td>\n",
       "      <td>False</td>\n",
       "    </tr>\n",
       "    <tr>\n",
       "      <th>2</th>\n",
       "      <td>377</td>\n",
       "      <td>gate_40</td>\n",
       "      <td>165</td>\n",
       "      <td>True</td>\n",
       "      <td>False</td>\n",
       "    </tr>\n",
       "    <tr>\n",
       "      <th>3</th>\n",
       "      <td>483</td>\n",
       "      <td>gate_40</td>\n",
       "      <td>1</td>\n",
       "      <td>False</td>\n",
       "      <td>False</td>\n",
       "    </tr>\n",
       "    <tr>\n",
       "      <th>4</th>\n",
       "      <td>488</td>\n",
       "      <td>gate_40</td>\n",
       "      <td>179</td>\n",
       "      <td>True</td>\n",
       "      <td>True</td>\n",
       "    </tr>\n",
       "  </tbody>\n",
       "</table>\n",
       "</div>"
      ],
      "text/plain": [
       "   userid  version  sum_gamerounds  retention_1  retention_7\n",
       "0     116  gate_30               3        False        False\n",
       "1     337  gate_30              38         True        False\n",
       "2     377  gate_40             165         True        False\n",
       "3     483  gate_40               1        False        False\n",
       "4     488  gate_40             179         True         True"
      ]
     },
     "execution_count": 2,
     "metadata": {},
     "output_type": "execute_result"
    }
   ],
   "source": [
    "#read data\n",
    "data = pd.read_csv(\"../data/cookie_cats.csv\")\n",
    "data.head()"
   ]
  },
  {
   "cell_type": "markdown",
   "id": "22f7c272",
   "metadata": {
    "papermill": {
     "duration": 0.018928,
     "end_time": "2023-05-18T03:34:37.841102",
     "exception": false,
     "start_time": "2023-05-18T03:34:37.822174",
     "status": "completed"
    },
    "tags": []
   },
   "source": [
    "We also have quite a lot of samples in our dataset. In total, we have 90189 samples, which should be more than enough for us to perform our A/B testing."
   ]
  },
  {
   "cell_type": "code",
   "execution_count": 3,
   "id": "67dd2c56",
   "metadata": {
    "execution": {
     "iopub.execute_input": "2023-05-18T03:34:37.882432Z",
     "iopub.status.busy": "2023-05-18T03:34:37.881420Z",
     "iopub.status.idle": "2023-05-18T03:34:37.889873Z",
     "shell.execute_reply": "2023-05-18T03:34:37.888828Z"
    },
    "papermill": {
     "duration": 0.032001,
     "end_time": "2023-05-18T03:34:37.892472",
     "exception": false,
     "start_time": "2023-05-18T03:34:37.860471",
     "status": "completed"
    },
    "tags": []
   },
   "outputs": [
    {
     "data": {
      "text/plain": [
       "(90189, 5)"
      ]
     },
     "execution_count": 3,
     "metadata": {},
     "output_type": "execute_result"
    }
   ],
   "source": [
    "data.shape"
   ]
  },
  {
   "cell_type": "markdown",
   "id": "ccad4a8b",
   "metadata": {
    "papermill": {
     "duration": 0.019115,
     "end_time": "2023-05-18T03:34:37.932038",
     "exception": false,
     "start_time": "2023-05-18T03:34:37.912923",
     "status": "completed"
    },
    "tags": []
   },
   "source": [
    "# Exploratory Data Analysis (EDA)\n",
    "\n",
    "Okay, now let's take a deeper dive into our dataset by constructing some data visualizations. We'll start with the distribution for `version`, our group of interest."
   ]
  },
  {
   "cell_type": "markdown",
   "id": "76bf2b8d",
   "metadata": {
    "papermill": {
     "duration": 0.019218,
     "end_time": "2023-05-18T03:34:37.970799",
     "exception": false,
     "start_time": "2023-05-18T03:34:37.951581",
     "status": "completed"
    },
    "tags": []
   },
   "source": [
    "## version"
   ]
  },
  {
   "cell_type": "code",
   "execution_count": 4,
   "id": "dff18e23",
   "metadata": {
    "execution": {
     "iopub.execute_input": "2023-05-18T03:34:38.013090Z",
     "iopub.status.busy": "2023-05-18T03:34:38.011770Z",
     "iopub.status.idle": "2023-05-18T03:34:38.379116Z",
     "shell.execute_reply": "2023-05-18T03:34:38.377823Z"
    },
    "papermill": {
     "duration": 0.39179,
     "end_time": "2023-05-18T03:34:38.382091",
     "exception": false,
     "start_time": "2023-05-18T03:34:37.990301",
     "status": "completed"
    },
    "tags": []
   },
   "outputs": [
    {
     "data": {
      "text/plain": [
       "<Axes: xlabel='version', ylabel='count'>"
      ]
     },
     "execution_count": 4,
     "metadata": {},
     "output_type": "execute_result"
    },
    {
     "data": {
      "image/png": "[encoded data removed]",
      "text/plain": [
       "<Figure size 640x480 with 1 Axes>"
      ]
     },
     "metadata": {},
     "output_type": "display_data"
    }
   ],
   "source": [
    "#plot count plot\n",
    "sns.countplot(data=data, x=\"version\")"
   ]
  },
  {
   "cell_type": "markdown",
   "id": "8e846e60",
   "metadata": {
    "papermill": {
     "duration": 0.019993,
     "end_time": "2023-05-18T03:34:38.423236",
     "exception": false,
     "start_time": "2023-05-18T03:34:38.403243",
     "status": "completed"
    },
    "tags": []
   },
   "source": [
    "We can see that the counts for the values are roughly the same, both having more than 40,000 counts. The counts of `gate_40` does slightly exceed that of `gate_30`. Next, let's try to visualize `sum_gamerounds`. Since this varaible is numerical, we'll plot it using a histogram."
   ]
  },
  {
   "cell_type": "markdown",
   "id": "ab0bc444",
   "metadata": {
    "papermill": {
     "duration": 0.019835,
     "end_time": "2023-05-18T03:34:38.465946",
     "exception": false,
     "start_time": "2023-05-18T03:34:38.446111",
     "status": "completed"
    },
    "tags": []
   },
   "source": [
    "## sum_gamerounds"
   ]
  },
  {
   "cell_type": "code",
   "execution_count": 5,
   "id": "8e427548",
   "metadata": {
    "execution": {
     "iopub.execute_input": "2023-05-18T03:34:38.509123Z",
     "iopub.status.busy": "2023-05-18T03:34:38.508346Z",
     "iopub.status.idle": "2023-05-18T03:34:38.981881Z",
     "shell.execute_reply": "2023-05-18T03:34:38.979905Z"
    },
    "papermill": {
     "duration": 0.499655,
     "end_time": "2023-05-18T03:34:38.985587",
     "exception": false,
     "start_time": "2023-05-18T03:34:38.485932",
     "status": "completed"
    },
    "tags": []
   },
   "outputs": [
    {
     "data": {
      "text/plain": [
       "<Axes: xlabel='sum_gamerounds', ylabel='Count'>"
      ]
     },
     "execution_count": 5,
     "metadata": {},
     "output_type": "execute_result"
    },
    {
     "data": {
      "image/png": "[encoded data removed]",
      "text/plain": [
       "<Figure size 640x480 with 1 Axes>"
      ]
     },
     "metadata": {},
     "output_type": "display_data"
    }
   ],
   "source": [
    "#plot histogram\n",
    "sns.histplot(data=data, x=\"sum_gamerounds\", bins=50)"
   ]
  },
  {
   "cell_type": "markdown",
   "id": "1376f11e",
   "metadata": {
    "papermill": {
     "duration": 0.020409,
     "end_time": "2023-05-18T03:34:39.027400",
     "exception": false,
     "start_time": "2023-05-18T03:34:39.006991",
     "status": "completed"
    },
    "tags": []
   },
   "source": [
    "Woah! What happened here? Although it seems like there are no values to the right of the histogram, there actually are. It's just that the count is way too small compared to the first bin, where most value lies. Let's check the boxplot instead."
   ]
  },
  {
   "cell_type": "code",
   "execution_count": 6,
   "id": "35a1f320",
   "metadata": {
    "execution": {
     "iopub.execute_input": "2023-05-18T03:34:39.071336Z",
     "iopub.status.busy": "2023-05-18T03:34:39.070844Z",
     "iopub.status.idle": "2023-05-18T03:34:39.380509Z",
     "shell.execute_reply": "2023-05-18T03:34:39.379034Z"
    },
    "papermill": {
     "duration": 0.334959,
     "end_time": "2023-05-18T03:34:39.383170",
     "exception": false,
     "start_time": "2023-05-18T03:34:39.048211",
     "status": "completed"
    },
    "tags": []
   },
   "outputs": [
    {
     "data": {
      "text/plain": [
       "<Axes: xlabel='sum_gamerounds'>"
      ]
     },
     "execution_count": 6,
     "metadata": {},
     "output_type": "execute_result"
    },
    {
     "data": {
      "image/png": "[encoded data removed]",
      "text/plain": [
       "<Figure size 640x480 with 1 Axes>"
      ]
     },
     "metadata": {},
     "output_type": "display_data"
    }
   ],
   "source": [
    "#plot boxplot\n",
    "sns.boxplot(data=data, x=\"sum_gamerounds\")"
   ]
  },
  {
   "cell_type": "markdown",
   "id": "7721a4bb",
   "metadata": {
    "papermill": {
     "duration": 0.020821,
     "end_time": "2023-05-18T03:34:39.425602",
     "exception": false,
     "start_time": "2023-05-18T03:34:39.404781",
     "status": "completed"
    },
    "tags": []
   },
   "source": [
    "Ah, now we can see the problem. Apparently, there is one extreme outlier that played nearly 50,000 rounds of game within 1 week of installation. That's insane! This person must really love this game! If not, it's probably due to a bug or data error. For the sake of our test, we'll have to remove this abnormal sample. Next, let's take a look at `retention_1`. "
   ]
  },
  {
   "cell_type": "markdown",
   "id": "09c64913",
   "metadata": {
    "papermill": {
     "duration": 0.020664,
     "end_time": "2023-05-18T03:34:39.467349",
     "exception": false,
     "start_time": "2023-05-18T03:34:39.446685",
     "status": "completed"
    },
    "tags": []
   },
   "source": [
    "## retention_1"
   ]
  },
  {
   "cell_type": "code",
   "execution_count": 7,
   "id": "2182316d",
   "metadata": {
    "execution": {
     "iopub.execute_input": "2023-05-18T03:34:39.512129Z",
     "iopub.status.busy": "2023-05-18T03:34:39.510864Z",
     "iopub.status.idle": "2023-05-18T03:34:39.744485Z",
     "shell.execute_reply": "2023-05-18T03:34:39.743229Z"
    },
    "papermill": {
     "duration": 0.258938,
     "end_time": "2023-05-18T03:34:39.747353",
     "exception": false,
     "start_time": "2023-05-18T03:34:39.488415",
     "status": "completed"
    },
    "tags": []
   },
   "outputs": [
    {
     "data": {
      "text/plain": [
       "<Axes: xlabel='retention_1', ylabel='count'>"
      ]
     },
     "execution_count": 7,
     "metadata": {},
     "output_type": "execute_result"
    },
    {
     "data": {
      "image/png": "[encoded data removed]",
      "text/plain": [
       "<Figure size 640x480 with 1 Axes>"
      ]
     },
     "metadata": {},
     "output_type": "display_data"
    }
   ],
   "source": [
    "#plot countplot\n",
    "sns.countplot(data=data, x=\"retention_1\")"
   ]
  },
  {
   "cell_type": "markdown",
   "id": "7cf6247c",
   "metadata": {
    "papermill": {
     "duration": 0.021428,
     "end_time": "2023-05-18T03:34:39.790327",
     "exception": false,
     "start_time": "2023-05-18T03:34:39.768899",
     "status": "completed"
    },
    "tags": []
   },
   "source": [
    "We can see that there are more `False` values than `True`. This means that most people (more than 50%) never played the game again after 1 day of installation. Perhaps, this is something that the developers can think about if they want to retain more loyal players."
   ]
  },
  {
   "cell_type": "markdown",
   "id": "ac59723f",
   "metadata": {
    "papermill": {
     "duration": 0.02134,
     "end_time": "2023-05-18T03:34:39.833171",
     "exception": false,
     "start_time": "2023-05-18T03:34:39.811831",
     "status": "completed"
    },
    "tags": []
   },
   "source": [
    "## retention_7"
   ]
  },
  {
   "cell_type": "code",
   "execution_count": 8,
   "id": "33d05e54",
   "metadata": {
    "execution": {
     "iopub.execute_input": "2023-05-18T03:34:39.878489Z",
     "iopub.status.busy": "2023-05-18T03:34:39.878028Z",
     "iopub.status.idle": "2023-05-18T03:34:40.121983Z",
     "shell.execute_reply": "2023-05-18T03:34:40.120647Z"
    },
    "papermill": {
     "duration": 0.2702,
     "end_time": "2023-05-18T03:34:40.124836",
     "exception": false,
     "start_time": "2023-05-18T03:34:39.854636",
     "status": "completed"
    },
    "tags": []
   },
   "outputs": [
    {
     "data": {
      "text/plain": [
       "<Axes: xlabel='retention_7', ylabel='count'>"
      ]
     },
     "execution_count": 8,
     "metadata": {},
     "output_type": "execute_result"
    },
    {
     "data": {
      "image/png": "[encoded data removed]",
      "text/plain": [
       "<Figure size 640x480 with 1 Axes>"
      ]
     },
     "metadata": {},
     "output_type": "display_data"
    }
   ],
   "source": [
    "#plot countplot\n",
    "sns.countplot(data=data, x=\"retention_7\")"
   ]
  },
  {
   "cell_type": "markdown",
   "id": "1a0684e6",
   "metadata": {
    "papermill": {
     "duration": 0.021833,
     "end_time": "2023-05-18T03:34:40.168877",
     "exception": false,
     "start_time": "2023-05-18T03:34:40.147044",
     "status": "completed"
    },
    "tags": []
   },
   "source": [
    "As expected, the number of players that continued to play this game after 1 week of installation drops even lower. At the end of the day, this game is likely designed for some immediate satisfaction, and not for long-term dedication like many role-playing games are designed to do."
   ]
  },
  {
   "cell_type": "markdown",
   "id": "1833555a",
   "metadata": {
    "papermill": {
     "duration": 0.021864,
     "end_time": "2023-05-18T03:34:40.212786",
     "exception": false,
     "start_time": "2023-05-18T03:34:40.190922",
     "status": "completed"
    },
    "tags": []
   },
   "source": [
    "## Remove Outlier\n",
    "\n",
    "Okay, now as mentioned before, let's remove that one single outlier."
   ]
  },
  {
   "cell_type": "code",
   "execution_count": 9,
   "id": "2893cbb3",
   "metadata": {
    "execution": {
     "iopub.execute_input": "2023-05-18T03:34:40.259714Z",
     "iopub.status.busy": "2023-05-18T03:34:40.259267Z",
     "iopub.status.idle": "2023-05-18T03:34:40.274358Z",
     "shell.execute_reply": "2023-05-18T03:34:40.273206Z"
    },
    "papermill": {
     "duration": 0.042125,
     "end_time": "2023-05-18T03:34:40.277358",
     "exception": false,
     "start_time": "2023-05-18T03:34:40.235233",
     "status": "completed"
    },
    "tags": []
   },
   "outputs": [],
   "source": [
    "#remove outlier\n",
    "data = data.drop(data[data.sum_gamerounds > 40000].index)"
   ]
  },
  {
   "cell_type": "markdown",
   "id": "8f0d1f7c",
   "metadata": {
    "papermill": {
     "duration": 0.021917,
     "end_time": "2023-05-18T03:34:40.321617",
     "exception": false,
     "start_time": "2023-05-18T03:34:40.299700",
     "status": "completed"
    },
    "tags": []
   },
   "source": [
    "# Bivariate EDA\n",
    "\n",
    "Now that we have removed that outlier, let's visualize our data again. This time, we'll be looking at how the three variables `sum_gamerounds`, `retention_1` and `retention_7` distribute among the two `version` groups.\n",
    "\n",
    "## sum_gamerounds\n",
    "With that extreme outlier out of the way, we finally get to see how `sum_gamerounds` is distributed. The distribution of `sum_gamerounds` seems to be roughly the same for the two versions. Both seem to have a right-skewed distribution. Given this simple visualization, we can already have an initial guess that the different versions (`gate_30` and `gate_40`) will not have a huge impact on the values of `sum_gamerounds`. Of course, this is only just an initial guess. We'll need to perform statistical tests to back up any claim."
   ]
  },
  {
   "cell_type": "code",
   "execution_count": 10,
   "id": "40a9e913",
   "metadata": {
    "execution": {
     "iopub.execute_input": "2023-05-18T03:34:40.368301Z",
     "iopub.status.busy": "2023-05-18T03:34:40.367805Z",
     "iopub.status.idle": "2023-05-18T03:34:40.857642Z",
     "shell.execute_reply": "2023-05-18T03:34:40.856191Z"
    },
    "papermill": {
     "duration": 0.516877,
     "end_time": "2023-05-18T03:34:40.860721",
     "exception": false,
     "start_time": "2023-05-18T03:34:40.343844",
     "status": "completed"
    },
    "tags": []
   },
   "outputs": [
    {
     "data": {
      "text/plain": [
       "<Axes: xlabel='sum_gamerounds', ylabel='version'>"
      ]
     },
     "execution_count": 10,
     "metadata": {},
     "output_type": "execute_result"
    },
    {
     "data": {
      "image/png": "[encoded data removed]",
      "text/plain": [
       "<Figure size 1500x500 with 1 Axes>"
      ]
     },
     "metadata": {},
     "output_type": "display_data"
    }
   ],
   "source": [
    "#set figure size\n",
    "sns.set(rc={'figure.figsize':(15, 5)})\n",
    "#plot boxplot\n",
    "sns.boxplot(data=data, x=\"sum_gamerounds\", y=\"version\")"
   ]
  },
  {
   "cell_type": "markdown",
   "id": "591ec8cb",
   "metadata": {
    "papermill": {
     "duration": 0.022869,
     "end_time": "2023-05-18T03:34:40.907220",
     "exception": false,
     "start_time": "2023-05-18T03:34:40.884351",
     "status": "completed"
    },
    "tags": []
   },
   "source": [
    "The boxplots above may still be unclear due to their skewness. So let's take a look at their specific statistics to see if we can extract some more insights."
   ]
  },
  {
   "cell_type": "code",
   "execution_count": 11,
   "id": "c584cebf",
   "metadata": {
    "execution": {
     "iopub.execute_input": "2023-05-18T03:34:40.955990Z",
     "iopub.status.busy": "2023-05-18T03:34:40.955555Z",
     "iopub.status.idle": "2023-05-18T03:34:40.970796Z",
     "shell.execute_reply": "2023-05-18T03:34:40.969504Z"
    },
    "papermill": {
     "duration": 0.043242,
     "end_time": "2023-05-18T03:34:40.973611",
     "exception": false,
     "start_time": "2023-05-18T03:34:40.930369",
     "status": "completed"
    },
    "tags": []
   },
   "outputs": [
    {
     "data": {
      "text/plain": [
       "count    90188.000000\n",
       "mean        51.320253\n",
       "std        102.682719\n",
       "min          0.000000\n",
       "25%          5.000000\n",
       "50%         16.000000\n",
       "75%         51.000000\n",
       "max       2961.000000\n",
       "Name: sum_gamerounds, dtype: float64"
      ]
     },
     "execution_count": 11,
     "metadata": {},
     "output_type": "execute_result"
    }
   ],
   "source": [
    "#obtain descriptive statistics for sum_gamerounds\n",
    "data.sum_gamerounds.describe()"
   ]
  },
  {
   "cell_type": "markdown",
   "id": "3ca84b35",
   "metadata": {
    "papermill": {
     "duration": 0.023089,
     "end_time": "2023-05-18T03:34:41.020551",
     "exception": false,
     "start_time": "2023-05-18T03:34:40.997462",
     "status": "completed"
    },
    "tags": []
   },
   "source": [
    "Let's also zoom into histogram for when `sum_gamerounds` (the x-axis) is less than 200. Setting the bins as the maximum value of `sum_gamerounds` allows us to easily identify that most players only once in the first week after installation. There was also a surprising amount of players who didn't play the game at all! Perhaps, developers of the game need to investigate into this issue. "
   ]
  },
  {
   "cell_type": "code",
   "execution_count": 12,
   "id": "b677177c",
   "metadata": {
    "execution": {
     "iopub.execute_input": "2023-05-18T03:34:41.070305Z",
     "iopub.status.busy": "2023-05-18T03:34:41.069816Z",
     "iopub.status.idle": "2023-05-18T03:34:47.977255Z",
     "shell.execute_reply": "2023-05-18T03:34:47.975935Z"
    },
    "papermill": {
     "duration": 6.935846,
     "end_time": "2023-05-18T03:34:47.980229",
     "exception": false,
     "start_time": "2023-05-18T03:34:41.044383",
     "status": "completed"
    },
    "tags": []
   },
   "outputs": [
    {
     "data": {
      "text/plain": [
       "(0.0, 200.0)"
      ]
     },
     "execution_count": 12,
     "metadata": {},
     "output_type": "execute_result"
    },
    {
     "data": {
      "image/png": "[encoded data removed]",
      "text/plain": [
       "<Figure size 700x500 with 1 Axes>"
      ]
     },
     "metadata": {},
     "output_type": "display_data"
    }
   ],
   "source": [
    "#set figure size\n",
    "sns.set(rc={'figure.figsize':(7, 5)})\n",
    "#plot histogram\n",
    "sns.histplot(data[\"sum_gamerounds\"], bins=2961)\n",
    "#limit x-axis to range (0, 200)\n",
    "plt.xlim(0, 200)"
   ]
  },
  {
   "cell_type": "markdown",
   "id": "a77b94d0",
   "metadata": {
    "papermill": {
     "duration": 0.024174,
     "end_time": "2023-05-18T03:34:48.028475",
     "exception": false,
     "start_time": "2023-05-18T03:34:48.004301",
     "status": "completed"
    },
    "tags": []
   },
   "source": [
    "## retention_1\n",
    "\n",
    "Our next variable in the line is `retention_1`. Since this variable is categorical variable, we can easily compare its distribution between the two version using a count plot."
   ]
  },
  {
   "cell_type": "code",
   "execution_count": 13,
   "id": "ecad3b59",
   "metadata": {
    "execution": {
     "iopub.execute_input": "2023-05-18T03:34:48.078463Z",
     "iopub.status.busy": "2023-05-18T03:34:48.077392Z",
     "iopub.status.idle": "2023-05-18T03:34:48.436221Z",
     "shell.execute_reply": "2023-05-18T03:34:48.434927Z"
    },
    "papermill": {
     "duration": 0.386811,
     "end_time": "2023-05-18T03:34:48.439024",
     "exception": false,
     "start_time": "2023-05-18T03:34:48.052213",
     "status": "completed"
    },
    "tags": []
   },
   "outputs": [
    {
     "data": {
      "text/plain": [
       "<Axes: xlabel='retention_1', ylabel='count'>"
      ]
     },
     "execution_count": 13,
     "metadata": {},
     "output_type": "execute_result"
    },
    {
     "data": {
      "image/png": "[encoded data removed]",
      "text/plain": [
       "<Figure size 700x500 with 1 Axes>"
      ]
     },
     "metadata": {},
     "output_type": "display_data"
    }
   ],
   "source": [
    "#plot count plot\n",
    "sns.countplot(data=data, x=\"retention_1\", hue=\"version\")"
   ]
  },
  {
   "cell_type": "markdown",
   "id": "0fc2eb47",
   "metadata": {
    "papermill": {
     "duration": 0.024261,
     "end_time": "2023-05-18T03:34:48.488332",
     "exception": false,
     "start_time": "2023-05-18T03:34:48.464071",
     "status": "completed"
    },
    "tags": []
   },
   "source": [
    "Again, it appears that the proportion of those players who retained after one day of installation is approximately the same among the two versions. Remember that this dataset contains more samples for version `gate_40` and so if the two proprotions were equal, both orange bars should exceed the blue bars by a little bit. We'll also have to perform a hypothesis testing to validate this hypothesis."
   ]
  },
  {
   "cell_type": "markdown",
   "id": "ba2d219a",
   "metadata": {
    "papermill": {
     "duration": 0.024381,
     "end_time": "2023-05-18T03:34:48.538302",
     "exception": false,
     "start_time": "2023-05-18T03:34:48.513921",
     "status": "completed"
    },
    "tags": []
   },
   "source": [
    "## retention_7\n",
    "\n",
    "What was mentioned about `retention_1` would also apply to `retention_7`. Let's see if we can identify any differences here."
   ]
  },
  {
   "cell_type": "code",
   "execution_count": 14,
   "id": "d52409e7",
   "metadata": {
    "execution": {
     "iopub.execute_input": "2023-05-18T03:34:48.589871Z",
     "iopub.status.busy": "2023-05-18T03:34:48.589427Z",
     "iopub.status.idle": "2023-05-18T03:34:48.951402Z",
     "shell.execute_reply": "2023-05-18T03:34:48.950119Z"
    },
    "papermill": {
     "duration": 0.391581,
     "end_time": "2023-05-18T03:34:48.954338",
     "exception": false,
     "start_time": "2023-05-18T03:34:48.562757",
     "status": "completed"
    },
    "tags": []
   },
   "outputs": [
    {
     "data": {
      "text/plain": [
       "<Axes: xlabel='retention_7', ylabel='count'>"
      ]
     },
     "execution_count": 14,
     "metadata": {},
     "output_type": "execute_result"
    },
    {
     "data": {
      "image/png": "[encoded data removed]",
      "text/plain": [
       "<Figure size 700x500 with 1 Axes>"
      ]
     },
     "metadata": {},
     "output_type": "display_data"
    }
   ],
   "source": [
    "#plot count plot\n",
    "sns.countplot(data=data, x=\"retention_7\", hue=\"version\")"
   ]
  },
  {
   "cell_type": "markdown",
   "id": "b4305cfc",
   "metadata": {
    "papermill": {
     "duration": 0.026403,
     "end_time": "2023-05-18T03:34:49.006508",
     "exception": false,
     "start_time": "2023-05-18T03:34:48.980105",
     "status": "completed"
    },
    "tags": []
   },
   "source": [
    "Do you see the difference between the count plot of `retention_1` and `retention_7`? In the count plot of `retention_7`, the orange count bar (`gate_40`) is higher than the blue count bar (`gate_30`) for `False` values, but less for `True` values. This is interesting because we just said that, if the two proportion of retention is the same, then both orange bars should be slightly higher than that of the blue bars. We might be able to identify a difference here. Of course, we can only conclude after we perform the hypothesis test."
   ]
  },
  {
   "cell_type": "markdown",
   "id": "21c13d35",
   "metadata": {
    "papermill": {
     "duration": 0.024945,
     "end_time": "2023-05-18T03:34:49.056580",
     "exception": false,
     "start_time": "2023-05-18T03:34:49.031635",
     "status": "completed"
    },
    "tags": []
   },
   "source": [
    "# Hypothesis Testing\n",
    "\n",
    "Okay, now that we have a pretty good general idea of our data, we can finally perform our A/B testing! But this is actually the trickiest part. There are many different options of statistical tests out there for you to choose. Which one should we use? Let's not jump too far ahead yet. We'll first seperate our data into the control and treatment group so it can be fed into our tests. "
   ]
  },
  {
   "cell_type": "code",
   "execution_count": 15,
   "id": "23d27b89",
   "metadata": {
    "execution": {
     "iopub.execute_input": "2023-05-18T03:34:49.108847Z",
     "iopub.status.busy": "2023-05-18T03:34:49.108399Z",
     "iopub.status.idle": "2023-05-18T03:34:49.153085Z",
     "shell.execute_reply": "2023-05-18T03:34:49.151731Z"
    },
    "papermill": {
     "duration": 0.074358,
     "end_time": "2023-05-18T03:34:49.156007",
     "exception": false,
     "start_time": "2023-05-18T03:34:49.081649",
     "status": "completed"
    },
    "tags": []
   },
   "outputs": [],
   "source": [
    "#seperate control and treatment group\n",
    "control = data[data[\"version\"]==\"gate_30\"]\n",
    "treatment = data[data[\"version\"]==\"gate_40\"]"
   ]
  },
  {
   "cell_type": "markdown",
   "id": "440036ae",
   "metadata": {
    "papermill": {
     "duration": 0.024873,
     "end_time": "2023-05-18T03:34:49.206129",
     "exception": false,
     "start_time": "2023-05-18T03:34:49.181256",
     "status": "completed"
    },
    "tags": []
   },
   "source": [
    "## sum_gamerounds"
   ]
  },
  {
   "cell_type": "markdown",
   "id": "d0741be5",
   "metadata": {
    "papermill": {
     "duration": 0.02574,
     "end_time": "2023-05-18T03:34:49.257215",
     "exception": false,
     "start_time": "2023-05-18T03:34:49.231475",
     "status": "completed"
    },
    "tags": []
   },
   "source": [
    "The general rule of thumb for determining which statistical test to use depends on the variable type as well as the different assumptions required for different tests. We'll start with `sum_gamerounds`, a numerical variable."
   ]
  },
  {
   "cell_type": "code",
   "execution_count": 16,
   "id": "1c61df4b",
   "metadata": {
    "execution": {
     "iopub.execute_input": "2023-05-18T03:34:49.310116Z",
     "iopub.status.busy": "2023-05-18T03:34:49.309650Z",
     "iopub.status.idle": "2023-05-18T03:34:49.315952Z",
     "shell.execute_reply": "2023-05-18T03:34:49.314693Z"
    },
    "papermill": {
     "duration": 0.035811,
     "end_time": "2023-05-18T03:34:49.318385",
     "exception": false,
     "start_time": "2023-05-18T03:34:49.282574",
     "status": "completed"
    },
    "tags": []
   },
   "outputs": [],
   "source": [
    "#distributions for sum_gamerounds\n",
    "gamerounds_control = control[\"sum_gamerounds\"]\n",
    "gamerounds_treatment = treatment[\"sum_gamerounds\"]"
   ]
  },
  {
   "cell_type": "markdown",
   "id": "d7ab2a86",
   "metadata": {
    "papermill": {
     "duration": 0.024837,
     "end_time": "2023-05-18T03:34:49.368395",
     "exception": false,
     "start_time": "2023-05-18T03:34:49.343558",
     "status": "completed"
    },
    "tags": []
   },
   "source": [
    "### Two Sample t-test\n",
    "\n",
    "We have two samples here, a control and a treatment. And if you recall from your statistics 101 classes, then you should know that we can perform a **two sample t-test** to test whether the unknown population means of two groups are equal or not. This is certainly an option, but we must also remember the conditions/assumptions required for the two sample t-test. \n",
    "\n",
    "* Data values must be independent\n",
    "* Data in each group follow a normal distribution\n",
    "* The variances for the two groups are equal\n",
    "\n",
    "We know that the data values are independent because they were collected from different users, but are the two distributions normal? From our previous visualization, we already have an idea that the distribution is likely skewed. To verify this, we have to perform other statistical tests to see if the distribution is normal or not. The same applies for assumption 3 (equal variances). We would also have to perform other statistical tests to conclude that they have equal variance. \n",
    "\n",
    "### Welch's t-test\n",
    "\n",
    "In the case where the first two conditions are satisfied, but not the third (unequal variances), we may have to opt for a **Welch's t-test**. Some even argue that we should always perform the Welch's t-test over the two sample t-test, because it's very unlikely that the variance between two variances will ever be the same.\n"
   ]
  },
  {
   "cell_type": "markdown",
   "id": "2f814293",
   "metadata": {
    "papermill": {
     "duration": 0.02508,
     "end_time": "2023-05-18T03:34:49.418703",
     "exception": false,
     "start_time": "2023-05-18T03:34:49.393623",
     "status": "completed"
    },
    "tags": []
   },
   "source": [
    "### Check for Normality\n",
    "\n",
    "Anyways, let's check whether our second condition (normality) is fulfilled or not. Again, we are left with many different options to check for normality. Here, I'll introduce three of the most commonly used methods: **Shapiro-Wilk Test**, **Kolmogorov–Smirnov Test**, and the **Q-Q Plot**. Let's go over them one by one.\n",
    "\n"
   ]
  },
  {
   "cell_type": "markdown",
   "id": "e91e3ae3",
   "metadata": {
    "papermill": {
     "duration": 0.024925,
     "end_time": "2023-05-18T03:34:49.468909",
     "exception": false,
     "start_time": "2023-05-18T03:34:49.443984",
     "status": "completed"
    },
    "tags": []
   },
   "source": [
    "### Shapiro-Wilk Test\n",
    "\n",
    "The implemetation of the **Shapiro-Wilk Test** is quite simple. We can directly import it from the `scipy.stats` package and we just feed the distribution into the function. The null hypothesis is that the data follows a normal distribution. Using a 0.05 level of significance, we can see that, for both the control and treatment distribution, we rejected our null hypothesis and concluded that they do not follow a normal distribution."
   ]
  },
  {
   "cell_type": "code",
   "execution_count": 17,
   "id": "f8907bcb",
   "metadata": {
    "execution": {
     "iopub.execute_input": "2023-05-18T03:34:49.522185Z",
     "iopub.status.busy": "2023-05-18T03:34:49.521750Z",
     "iopub.status.idle": "2023-05-18T03:34:49.541269Z",
     "shell.execute_reply": "2023-05-18T03:34:49.539872Z"
    },
    "papermill": {
     "duration": 0.049836,
     "end_time": "2023-05-18T03:34:49.544608",
     "exception": false,
     "start_time": "2023-05-18T03:34:49.494772",
     "status": "completed"
    },
    "tags": []
   },
   "outputs": [
    {
     "name": "stdout",
     "output_type": "stream",
     "text": [
      "Shapiro-Wilk test statistic for control group:  0.48864299058914185\n",
      "P-value for control group:  0.0\n",
      "There is enough evidence to reject the null hypothesis (control group sample does not follow a normal distribution) \n",
      "\n",
      "Shapiro-Wilk test statistic for treatement group:  0.4825664758682251\n",
      "P-value for treatment group:  0.0\n",
      "There is enough evidence to reject the null hypothesis (treatment sample does not follow a normal distribution) \n"
     ]
    },
    {
     "name": "stderr",
     "output_type": "stream",
     "text": [
      "/Users/benchen/miniconda3/envs/cookie-cat/lib/python3.12/site-packages/scipy/stats/_morestats.py:1882: UserWarning: p-value may not be accurate for N > 5000.\n",
      "  warnings.warn(\"p-value may not be accurate for N > 5000.\")\n"
     ]
    }
   ],
   "source": [
    "#compute test statistics and p-value for our two distributions to check for normality\n",
    "control_shapiro_stat, control_shapiro_p = stats.shapiro(gamerounds_control)\n",
    "treatment_shapiro_stat, treatment_shapiro_p = stats.shapiro(gamerounds_treatment)\n",
    "\n",
    "#control group results\n",
    "print(\"Shapiro-Wilk test statistic for control group: \", control_shapiro_stat)\n",
    "print(\"P-value for control group: \", control_shapiro_p)\n",
    "if control_shapiro_p > 0.05:\n",
    "    print(\"There is not enough evidence to reject the null hypothesis (control group sample follows a normal distribution)\")\n",
    "else:\n",
    "    print(\"There is enough evidence to reject the null hypothesis (control group sample does not follow a normal distribution) \")\n",
    "    \n",
    "#treatment group results\n",
    "print(\"\\nShapiro-Wilk test statistic for treatement group: \", treatment_shapiro_stat)\n",
    "print(\"P-value for treatment group: \", treatment_shapiro_p)\n",
    "if treatment_shapiro_p > 0.05:\n",
    "    print(\"There is not enough evidence to reject the null hypothesis (treatment group sample follows a normal distribution)\")\n",
    "else:\n",
    "    print(\"There is enough evidence to reject the null hypothesis (treatment sample does not follow a normal distribution) \")"
   ]
  },
  {
   "cell_type": "markdown",
   "id": "b2b2b8e8",
   "metadata": {
    "papermill": {
     "duration": 0.025245,
     "end_time": "2023-05-18T03:34:49.595966",
     "exception": false,
     "start_time": "2023-05-18T03:34:49.570721",
     "status": "completed"
    },
    "tags": []
   },
   "source": [
    "### Kolmogorov–Smirnov test\n",
    "\n",
    "The exact same code can be applied to the **Kolmogorov–Smirnov Test**, except we change `stats.shapiro` to `stats.kstest`. The KS test also indicates that both distributions are not normal."
   ]
  },
  {
   "cell_type": "code",
   "execution_count": 18,
   "id": "ee45452e",
   "metadata": {
    "execution": {
     "iopub.execute_input": "2023-05-18T03:34:49.650288Z",
     "iopub.status.busy": "2023-05-18T03:34:49.649694Z",
     "iopub.status.idle": "2023-05-18T03:34:49.673228Z",
     "shell.execute_reply": "2023-05-18T03:34:49.671833Z"
    },
    "papermill": {
     "duration": 0.053788,
     "end_time": "2023-05-18T03:34:49.676263",
     "exception": false,
     "start_time": "2023-05-18T03:34:49.622475",
     "status": "completed"
    },
    "tags": []
   },
   "outputs": [
    {
     "name": "stdout",
     "output_type": "stream",
     "text": [
      "KS test statistic for control group:  0.8724153079945488\n",
      "P-value for control group:  0.0\n",
      "There is enough evidence to reject the null hypothesis (control group sample does not follow a normal distribution) \n",
      "\n",
      "KS test statistic for treatement group:  0.8707186187388001\n",
      "P-value for treatment group:  0.0\n",
      "There is enough evidence to reject the null hypothesis (treatment sample does not follow a normal distribution) \n"
     ]
    }
   ],
   "source": [
    "#compute test statistics and p-value for our two distributions to check for normality\n",
    "control_kstest_stat, control_kstest_p = stats.kstest(gamerounds_control, \"norm\")\n",
    "treatment_kstest_stat, treatment_kstest_p = stats.kstest(gamerounds_treatment, \"norm\")\n",
    "\n",
    "#control group results\n",
    "print(\"KS test statistic for control group: \", control_kstest_stat)\n",
    "print(\"P-value for control group: \", control_kstest_p)\n",
    "if control_kstest_p > 0.05:\n",
    "    print(\"There is not enough evidence to reject the null hypothesis (control group sample follows a normal distribution)\")\n",
    "else:\n",
    "    print(\"There is enough evidence to reject the null hypothesis (control group sample does not follow a normal distribution) \")\n",
    "\n",
    "#treatment group results\n",
    "print(\"\\nKS test statistic for treatement group: \", treatment_kstest_stat)\n",
    "print(\"P-value for treatment group: \", treatment_kstest_p)\n",
    "if treatment_kstest_p > 0.05:\n",
    "    print(\"There is not enough evidence to reject the null hypothesis (treatment group sample follows a normal distribution)\")\n",
    "else:\n",
    "    print(\"There is enough evidence to reject the null hypothesis (treatment sample does not follow a normal distribution) \")"
   ]
  },
  {
   "cell_type": "markdown",
   "id": "edc787df",
   "metadata": {
    "papermill": {
     "duration": 0.02536,
     "end_time": "2023-05-18T03:34:49.727243",
     "exception": false,
     "start_time": "2023-05-18T03:34:49.701883",
     "status": "completed"
    },
    "tags": []
   },
   "source": [
    "### Q-Q Plot\n",
    "\n",
    "Our last method, plotting the **Q-Q Plot**, serves only as a visual check for normality. In essence, if a distribution, a Q-Q plot should display a straight dotted line. However, we can see in the two Q-Q plots below, they are not straight at all. Instead, the upward curve resembles a right-skewed distribution, which matches with our initial data visualization."
   ]
  },
  {
   "cell_type": "code",
   "execution_count": 19,
   "id": "b19655c8",
   "metadata": {
    "execution": {
     "iopub.execute_input": "2023-05-18T03:34:49.781624Z",
     "iopub.status.busy": "2023-05-18T03:34:49.780897Z",
     "iopub.status.idle": "2023-05-18T03:34:50.460509Z",
     "shell.execute_reply": "2023-05-18T03:34:50.459038Z"
    },
    "papermill": {
     "duration": 0.710034,
     "end_time": "2023-05-18T03:34:50.463797",
     "exception": false,
     "start_time": "2023-05-18T03:34:49.753763",
     "status": "completed"
    },
    "tags": []
   },
   "outputs": [
    {
     "data": {
      "image/png": "[encoded data removed]",
      "text/plain": [
       "<Figure size 1000x500 with 2 Axes>"
      ]
     },
     "metadata": {},
     "output_type": "display_data"
    }
   ],
   "source": [
    "sns.set(rc={'figure.figsize':(10, 5)})\n",
    "fig, ax = plt.subplots(1,2)\n",
    "\n",
    "#Q-Q Plot\n",
    "stats.probplot(gamerounds_control, plot=ax[0])\n",
    "stats.probplot(gamerounds_treatment, plot=ax[1])\n",
    "ax[0].set_title(\"Control Group Q-Q plot\")\n",
    "ax[1].set_title(\"Treatment Group Q-Q plot\")\n",
    "plt.show()"
   ]
  },
  {
   "cell_type": "markdown",
   "id": "ae8a56f1",
   "metadata": {
    "papermill": {
     "duration": 0.026388,
     "end_time": "2023-05-18T03:34:50.517070",
     "exception": false,
     "start_time": "2023-05-18T03:34:50.490682",
     "status": "completed"
    },
    "tags": []
   },
   "source": [
    "Okay, so all three tests say that the two distributions are not normal. What now? If the normality condition is not satisfied, what statistical test should we perform? We'd have to resort to non-parametric tests, where no assumption about the distribution is required. Here, we can use the **Mann-Whitney U Test** to compare two medians (not the mean), which would be a better measure of central tendency than the mean when distributions are skewed."
   ]
  },
  {
   "cell_type": "markdown",
   "id": "2f929283",
   "metadata": {
    "papermill": {
     "duration": 0.026401,
     "end_time": "2023-05-18T03:34:50.570036",
     "exception": false,
     "start_time": "2023-05-18T03:34:50.543635",
     "status": "completed"
    },
    "tags": []
   },
   "source": [
    "### Mann-Whitney U Test\n",
    "\n",
    "The implementation of the **Mann-Whitney U Test** is also very simple in python. The null hypothesis for this test is that the two samples may come from the same distribution, which means that there should also be no significant difference in central tendency."
   ]
  },
  {
   "cell_type": "code",
   "execution_count": 20,
   "id": "974da984",
   "metadata": {
    "execution": {
     "iopub.execute_input": "2023-05-18T03:34:50.626967Z",
     "iopub.status.busy": "2023-05-18T03:34:50.625722Z",
     "iopub.status.idle": "2023-05-18T03:34:50.723842Z",
     "shell.execute_reply": "2023-05-18T03:34:50.722287Z"
    },
    "papermill": {
     "duration": 0.129485,
     "end_time": "2023-05-18T03:34:50.726926",
     "exception": false,
     "start_time": "2023-05-18T03:34:50.597441",
     "status": "completed"
    },
    "tags": []
   },
   "outputs": [
    {
     "name": "stdout",
     "output_type": "stream",
     "text": [
      "Mann-Whitney U statistic: 1024285761.5\n",
      "P-value: 0.05089155279145375\n",
      "There is not enough evidence to reject the null hypothesis (The two samples may come from the same distribution)\n"
     ]
    }
   ],
   "source": [
    "#perform the Mann-Whitney U test\n",
    "mw_stat, mw_p = stats.mannwhitneyu(gamerounds_control, gamerounds_treatment)\n",
    "\n",
    "#print the results\n",
    "print('Mann-Whitney U statistic:', mw_stat)\n",
    "print('P-value:', mw_p)\n",
    "\n",
    "if mw_p > 0.05:\n",
    "    print(\"There is not enough evidence to reject the null hypothesis (The two samples may come from the same distribution)\")\n",
    "else:\n",
    "    print(\"There is enough evidence to reject the null hypothesis (The two samples may come from different distributions)\")"
   ]
  },
  {
   "cell_type": "markdown",
   "id": "489bde68",
   "metadata": {
    "papermill": {
     "duration": 0.027013,
     "end_time": "2023-05-18T03:34:50.780699",
     "exception": false,
     "start_time": "2023-05-18T03:34:50.753686",
     "status": "completed"
    },
    "tags": []
   },
   "source": [
    "As we can see from the result of the Mann-Whitney U Test, there is no significant evidence to reject the null hypothesis. We can thus conclude that the two samples may come from the same distribution and that the version type plays no role in affecting the values of sum_gamerounds. However, we must also acknowledge the fact that the p-value is 0.0508, just slightly above our level of significance of 0.05. This means that the result would be significant if we modified our level of significance to be just slightly higher."
   ]
  },
  {
   "cell_type": "markdown",
   "id": "a46c689f",
   "metadata": {
    "papermill": {
     "duration": 0.026657,
     "end_time": "2023-05-18T03:34:50.834024",
     "exception": false,
     "start_time": "2023-05-18T03:34:50.807367",
     "status": "completed"
    },
    "tags": []
   },
   "source": [
    "## Retention 1\n",
    "\n",
    "Okay, so that was the result for the variable `sum_gamerounds`. At a 0.05 level of significance, we concluded that there is no difference in the `sum_gamerounds` of `gate_30` and `gate_40`. Let' move on to our next variable, `retention_1`. Unlike `sum_gamerounds`, `retention_1` is a categorical variable (boolean datatype to be more specific). So instead of testing for mean or median, we would be testing the difference in proportion. There are generally two test options to test for proportion: **Two-sample Z Test for Proportions** and the **Chi-square Test of Independence**."
   ]
  },
  {
   "cell_type": "markdown",
   "id": "9f65fc33",
   "metadata": {
    "papermill": {
     "duration": 0.02644,
     "end_time": "2023-05-18T03:34:50.887792",
     "exception": false,
     "start_time": "2023-05-18T03:34:50.861352",
     "status": "completed"
    },
    "tags": []
   },
   "source": [
    "### Two-sample Z Test for Proportions\n",
    "\n",
    "The rule of thumb in determining which test to perform is to look at the sample size. The **Two-sample Z Test for Proportions** assumes that the sample sizes are large enough for the normal approximation to the sampling distribution. In our dataset, we have plenty of samples, so there should be no problem in conducting this test. To conduct the **Two-sample Z Test for Proportions**, we have to take the values of the number of successes and the total number of observations, and feed it into the `proportions_ztest` function (from `statsmodel.stats.proportion`)."
   ]
  },
  {
   "cell_type": "code",
   "execution_count": 21,
   "id": "37e3ba52",
   "metadata": {
    "execution": {
     "iopub.execute_input": "2023-05-18T03:34:50.944152Z",
     "iopub.status.busy": "2023-05-18T03:34:50.943662Z",
     "iopub.status.idle": "2023-05-18T03:34:50.969876Z",
     "shell.execute_reply": "2023-05-18T03:34:50.968437Z"
    },
    "papermill": {
     "duration": 0.058042,
     "end_time": "2023-05-18T03:34:50.972876",
     "exception": false,
     "start_time": "2023-05-18T03:34:50.914834",
     "status": "completed"
    },
    "tags": []
   },
   "outputs": [
    {
     "data": {
      "text/plain": [
       "(array([20034, 20119]), array([44699, 45489]))"
      ]
     },
     "execution_count": 21,
     "metadata": {},
     "output_type": "execute_result"
    }
   ],
   "source": [
    "#number of True values for retention_1 in control and treatment group\n",
    "retention_1_successes = np.array([sum(control[\"retention_1\"]), sum(treatment[\"retention_1\"])])\n",
    "#total number of observations in control and treatment group\n",
    "retention_1_nobs = np.array([len(control[\"retention_1\"]), len(treatment[\"retention_1\"])])  \n",
    "\n",
    "retention_1_successes, retention_1_nobs"
   ]
  },
  {
   "cell_type": "code",
   "execution_count": 22,
   "id": "3234e019",
   "metadata": {
    "execution": {
     "iopub.execute_input": "2023-05-18T03:34:51.029357Z",
     "iopub.status.busy": "2023-05-18T03:34:51.028676Z",
     "iopub.status.idle": "2023-05-18T03:34:51.038012Z",
     "shell.execute_reply": "2023-05-18T03:34:51.036830Z"
    },
    "papermill": {
     "duration": 0.040771,
     "end_time": "2023-05-18T03:34:51.040900",
     "exception": false,
     "start_time": "2023-05-18T03:34:51.000129",
     "status": "completed"
    },
    "tags": []
   },
   "outputs": [
    {
     "name": "stdout",
     "output_type": "stream",
     "text": [
      "retention_1 Z test statistics two sample proportions: 1.787103509763628\n",
      "retention_1 p-value: 0.0739207603418346\n",
      "There is not enough evidence to reject the null hypothesis (The two proportions may be the same)\n"
     ]
    }
   ],
   "source": [
    "#perform two-sample Z test for proportions\n",
    "retention_1_stat, retention_1_p = proportions_ztest(count=retention_1_successes, nobs=retention_1_nobs)\n",
    "\n",
    "#print the results\n",
    "print(\"retention_1 Z test statistics two sample proportions:\", retention_1_stat)\n",
    "print(\"retention_1 p-value:\", retention_1_p)\n",
    "\n",
    "if retention_1_p > 0.05:\n",
    "    print(\"There is not enough evidence to reject the null hypothesis (The two proportions may be the same)\")\n",
    "else:\n",
    "    print(\"There is enough evidence to reject the null hypothesis (The two proportions may be different)\")"
   ]
  },
  {
   "cell_type": "markdown",
   "id": "58122567",
   "metadata": {
    "papermill": {
     "duration": 0.026519,
     "end_time": "2023-05-18T03:34:51.094428",
     "exception": false,
     "start_time": "2023-05-18T03:34:51.067909",
     "status": "completed"
    },
    "tags": []
   },
   "source": [
    "The test results indicate that at 0.05 level of signficance, we do not reject the null hypothesis and that there is no significant difference in the two proportions. This is also consistent with our initial guess during the data visualization stage. "
   ]
  },
  {
   "cell_type": "markdown",
   "id": "047f7221",
   "metadata": {
    "papermill": {
     "duration": 0.026346,
     "end_time": "2023-05-18T03:34:51.147613",
     "exception": false,
     "start_time": "2023-05-18T03:34:51.121267",
     "status": "completed"
    },
    "tags": []
   },
   "source": [
    "### Chi-square Test of Independence\n",
    "\n",
    "The **Chi-square Test of Independence**, the other option, tests for independence between two categorical variables. This is a non-parametric test, which means it doesn't make any assumptions about the underlying distribution of the data. So in case where sample size is small, it may be more appropriate to use the chi-square test instead of the two-sample Z test for proportions. But do note that the chi-square test also has assumptions of its own. In particular: \n",
    "\n",
    "- Both variables are categorical\n",
    "- Observations are independent\n",
    "- Observations are mutually exclusive\n",
    "- Expected values of cells should be greater than five\n",
    "\n",
    "For those who are not familiar with the chi-square test, this may come across as confusing. But the idea behind chi-square test is actually really simple and I encourage you to read about it. There are plenty of resources online, so I won't go into the deep details behind it. For now, just know that all four of these assumptions are satisfied and that we can indeed perform this test. \n",
    "\n",
    "The implementation is simple. We construct the observed contingency table for our two variables and then feed it into the `chi2_contingency` function from `scipy.stats`. The function will return the test statistics, p-value, degree of freedom and the expected contingency table."
   ]
  },
  {
   "cell_type": "code",
   "execution_count": 23,
   "id": "c28f58a6",
   "metadata": {
    "execution": {
     "iopub.execute_input": "2023-05-18T03:34:51.203116Z",
     "iopub.status.busy": "2023-05-18T03:34:51.202703Z",
     "iopub.status.idle": "2023-05-18T03:34:51.243073Z",
     "shell.execute_reply": "2023-05-18T03:34:51.241792Z"
    },
    "papermill": {
     "duration": 0.071493,
     "end_time": "2023-05-18T03:34:51.245777",
     "exception": false,
     "start_time": "2023-05-18T03:34:51.174284",
     "status": "completed"
    },
    "tags": []
   },
   "outputs": [
    {
     "data": {
      "text/plain": [
       "array([[20034, 24665],\n",
       "       [20119, 25370]])"
      ]
     },
     "execution_count": 23,
     "metadata": {},
     "output_type": "execute_result"
    }
   ],
   "source": [
    "#construct observed contingency table\n",
    "retention_1_observed = np.array([[sum(control[\"retention_1\"]), len(control[\"retention_1\"])-sum(control[\"retention_1\"])],\n",
    "                                 [sum(treatment[\"retention_1\"]), len(treatment[\"retention_1\"])-sum(treatment[\"retention_1\"])]])\n",
    "\n",
    "retention_1_observed"
   ]
  },
  {
   "cell_type": "code",
   "execution_count": 24,
   "id": "6a874a02",
   "metadata": {
    "execution": {
     "iopub.execute_input": "2023-05-18T03:34:51.303746Z",
     "iopub.status.busy": "2023-05-18T03:34:51.303296Z",
     "iopub.status.idle": "2023-05-18T03:34:51.313696Z",
     "shell.execute_reply": "2023-05-18T03:34:51.312083Z"
    },
    "papermill": {
     "duration": 0.042556,
     "end_time": "2023-05-18T03:34:51.316761",
     "exception": false,
     "start_time": "2023-05-18T03:34:51.274205",
     "status": "completed"
    },
    "tags": []
   },
   "outputs": [
    {
     "name": "stdout",
     "output_type": "stream",
     "text": [
      "Chi-square test statistics for retention_1:  3.169835543170799\n",
      "P-value for retention_1:  0.07500999897705672\n",
      "Degree of freedom:  1\n",
      "[[19900.64029583 24798.35970417]\n",
      " [20252.35970417 25236.64029583]]\n",
      "There is not enough evidence to reject the null hypothesis (The two proportions may be the same)\n"
     ]
    }
   ],
   "source": [
    "#return test statistics, p-value, df and expected contingency table\n",
    "retention_1_chi2_stat, retention_1_chi2_p, retention_1_dof, retention_1_expected = stats.chi2_contingency(retention_1_observed)\n",
    "\n",
    "#print the results\n",
    "print(\"Chi-square test statistics for retention_1: \", retention_1_chi2_stat)\n",
    "print(\"P-value for retention_1: \", retention_1_chi2_p)\n",
    "print(\"Degree of freedom: \", retention_1_dof)\n",
    "print(retention_1_expected)\n",
    "\n",
    "if retention_1_chi2_p > 0.05:\n",
    "    print(\"There is not enough evidence to reject the null hypothesis (The two proportions may be the same)\")\n",
    "else:\n",
    "    print(\"There is enough evidence to reject the null hypothesis (The two proportions may be different)\")"
   ]
  },
  {
   "cell_type": "markdown",
   "id": "571c6306",
   "metadata": {
    "papermill": {
     "duration": 0.027618,
     "end_time": "2023-05-18T03:34:51.371914",
     "exception": false,
     "start_time": "2023-05-18T03:34:51.344296",
     "status": "completed"
    },
    "tags": []
   },
   "source": [
    "The result of the chi-square test is consistent with the two-sample Z test for proportions. At a 0.05 level of significance, there is not enough evidence to reject the null hypothesis, so we can conclude that there are no relationship between `version` and `retention_1` (they are independent)."
   ]
  },
  {
   "cell_type": "markdown",
   "id": "1967e454",
   "metadata": {
    "papermill": {
     "duration": 0.027626,
     "end_time": "2023-05-18T03:34:51.427085",
     "exception": false,
     "start_time": "2023-05-18T03:34:51.399459",
     "status": "completed"
    },
    "tags": []
   },
   "source": [
    "## Retention 7\n",
    "\n",
    "Phew! Now we're finally down to our final variable, `retention_7`. This variable is essentially the same thing as `retention_1`. But remember that during the data visualization stage, we said that there could potentially be a significant difference in `retention_7` proportion between the two versions. Let's do the same two-sample Z test for proportions and chi-square test to check if our hypothesis is correct."
   ]
  },
  {
   "cell_type": "markdown",
   "id": "dc79fc00",
   "metadata": {
    "papermill": {
     "duration": 0.027416,
     "end_time": "2023-05-18T03:34:51.482341",
     "exception": false,
     "start_time": "2023-05-18T03:34:51.454925",
     "status": "completed"
    },
    "tags": []
   },
   "source": [
    "### Two-sample Z Test for Proportions"
   ]
  },
  {
   "cell_type": "code",
   "execution_count": 25,
   "id": "648d79bd",
   "metadata": {
    "execution": {
     "iopub.execute_input": "2023-05-18T03:34:51.540659Z",
     "iopub.status.busy": "2023-05-18T03:34:51.540246Z",
     "iopub.status.idle": "2023-05-18T03:34:51.564825Z",
     "shell.execute_reply": "2023-05-18T03:34:51.563507Z"
    },
    "papermill": {
     "duration": 0.05753,
     "end_time": "2023-05-18T03:34:51.567453",
     "exception": false,
     "start_time": "2023-05-18T03:34:51.509923",
     "status": "completed"
    },
    "tags": []
   },
   "outputs": [
    {
     "data": {
      "text/plain": [
       "(array([8501, 8279]), array([44699, 45489]))"
      ]
     },
     "execution_count": 25,
     "metadata": {},
     "output_type": "execute_result"
    }
   ],
   "source": [
    "retention_7_successes = np.array([sum(control[\"retention_7\"]), sum(treatment[\"retention_7\"])])\n",
    "retention_7_nobs = np.array([len(control[\"retention_7\"]), len(treatment[\"retention_7\"])])  \n",
    "\n",
    "retention_7_successes, retention_7_nobs"
   ]
  },
  {
   "cell_type": "code",
   "execution_count": 26,
   "id": "52a9002c",
   "metadata": {
    "execution": {
     "iopub.execute_input": "2023-05-18T03:34:51.625287Z",
     "iopub.status.busy": "2023-05-18T03:34:51.624801Z",
     "iopub.status.idle": "2023-05-18T03:34:51.633283Z",
     "shell.execute_reply": "2023-05-18T03:34:51.632127Z"
    },
    "papermill": {
     "duration": 0.04122,
     "end_time": "2023-05-18T03:34:51.636218",
     "exception": false,
     "start_time": "2023-05-18T03:34:51.594998",
     "status": "completed"
    },
    "tags": []
   },
   "outputs": [
    {
     "name": "stdout",
     "output_type": "stream",
     "text": [
      "retention_7 Z test statistics two sample proportions: 3.1574100858819936\n",
      "retention_7 p-value: 0.001591773177399344\n",
      "There is enough evidence to reject the null hypothesis (The two proportions may be different)\n"
     ]
    }
   ],
   "source": [
    "retention_7_stat, retention_7_p = proportions_ztest(count=retention_7_successes, nobs=retention_7_nobs)\n",
    "\n",
    "print(\"retention_7 Z test statistics two sample proportions:\", retention_7_stat)\n",
    "print(\"retention_7 p-value:\", retention_7_p)\n",
    "\n",
    "if retention_7_p > 0.05:\n",
    "    print(\"There is not enough evidence to reject the null hypothesis (The two proportions may be the same)\")\n",
    "else:\n",
    "    print(\"There is enough evidence to reject the null hypothesis (The two proportions may be different)\")"
   ]
  },
  {
   "cell_type": "markdown",
   "id": "8584d93f",
   "metadata": {
    "papermill": {
     "duration": 0.031042,
     "end_time": "2023-05-18T03:34:51.694920",
     "exception": false,
     "start_time": "2023-05-18T03:34:51.663878",
     "status": "completed"
    },
    "tags": []
   },
   "source": [
    "### Chi-squared Test "
   ]
  },
  {
   "cell_type": "code",
   "execution_count": 27,
   "id": "0846e439",
   "metadata": {
    "execution": {
     "iopub.execute_input": "2023-05-18T03:34:51.766011Z",
     "iopub.status.busy": "2023-05-18T03:34:51.764971Z",
     "iopub.status.idle": "2023-05-18T03:34:51.809760Z",
     "shell.execute_reply": "2023-05-18T03:34:51.808461Z"
    },
    "papermill": {
     "duration": 0.08645,
     "end_time": "2023-05-18T03:34:51.812565",
     "exception": false,
     "start_time": "2023-05-18T03:34:51.726115",
     "status": "completed"
    },
    "tags": []
   },
   "outputs": [
    {
     "data": {
      "text/plain": [
       "array([[ 8501, 36198],\n",
       "       [ 8279, 37210]])"
      ]
     },
     "execution_count": 27,
     "metadata": {},
     "output_type": "execute_result"
    }
   ],
   "source": [
    "retention_7_observed = np.array([[sum(control[\"retention_7\"]), len(control[\"retention_7\"])-sum(control[\"retention_7\"])],\n",
    "                                 [sum(treatment[\"retention_7\"]), len(treatment[\"retention_7\"])-sum(treatment[\"retention_7\"])]])\n",
    "\n",
    "retention_7_observed"
   ]
  },
  {
   "cell_type": "code",
   "execution_count": 28,
   "id": "efe0732b",
   "metadata": {
    "execution": {
     "iopub.execute_input": "2023-05-18T03:34:51.871731Z",
     "iopub.status.busy": "2023-05-18T03:34:51.870463Z",
     "iopub.status.idle": "2023-05-18T03:34:51.880590Z",
     "shell.execute_reply": "2023-05-18T03:34:51.879069Z"
    },
    "papermill": {
     "duration": 0.042295,
     "end_time": "2023-05-18T03:34:51.883097",
     "exception": false,
     "start_time": "2023-05-18T03:34:51.840802",
     "status": "completed"
    },
    "tags": []
   },
   "outputs": [
    {
     "name": "stdout",
     "output_type": "stream",
     "text": [
      "Chi-square test statistics for retention_7:  9.915275528905669\n",
      "P-value for retention_7:  0.001639125967865442\n",
      "Degree of freedom:  1\n",
      "[[ 8316.50796115 36382.49203885]\n",
      " [ 8463.49203885 37025.50796115]]\n",
      "There is enough evidence to reject the null hypothesis (The two proportions may be different)\n"
     ]
    }
   ],
   "source": [
    "retention_7_chi2_stat, retention_7_chi2_p, retention_7_dof, retention_7_expected = stats.chi2_contingency(retention_7_observed)\n",
    "\n",
    "print(\"Chi-square test statistics for retention_7: \", retention_7_chi2_stat)\n",
    "print(\"P-value for retention_7: \", retention_7_chi2_p)\n",
    "print(\"Degree of freedom: \", retention_7_dof)\n",
    "print(retention_7_expected)\n",
    "\n",
    "if retention_7_chi2_p > 0.05:\n",
    "    print(\"There is not enough evidence to reject the null hypothesis (The two proportions may be the same)\")\n",
    "else:\n",
    "    print(\"There is enough evidence to reject the null hypothesis (The two proportions may be different)\")"
   ]
  },
  {
   "cell_type": "markdown",
   "id": "37a61451",
   "metadata": {
    "papermill": {
     "duration": 0.027345,
     "end_time": "2023-05-18T03:34:51.938522",
     "exception": false,
     "start_time": "2023-05-18T03:34:51.911177",
     "status": "completed"
    },
    "tags": []
   },
   "source": [
    "Hey, would you look at that! Both tests indicate that there is a difference in proportion for `retention_7`. This conclusion is really interesting, but it also doesn't come out as very surprising. Let's wrap everything up in our conclusion"
   ]
  },
  {
   "cell_type": "markdown",
   "id": "90e4cd87",
   "metadata": {
    "papermill": {
     "duration": 0.027351,
     "end_time": "2023-05-18T03:34:51.993570",
     "exception": false,
     "start_time": "2023-05-18T03:34:51.966219",
     "status": "completed"
    },
    "tags": []
   },
   "source": [
    "# Conclusion\n",
    "\n",
    "According to our A/B testing, we saw an insignficant difference in `sum_gamerounds` and `retention_1` between the two versions. Now that we think about this conclusion, it actually makes a lot of sense. The difference between `gate_30` and `gate_40` is that players are forced to pause at level 30 and level 40, respectively. However, from our initial data visualization, we knew that most players quit the game (many don't even start) after playing only a few rounds of it. This means that the version type doesn't even matter for variables like `sum_gamerounds` and `retention_1` (that measure early gameplays) because most players don't even reach level 30. On the contrary, we observed a significant difference in `retention_7` between the two versions. At this point, most players have probably reached level 30 or 40, which means that the version type could actually have an impact. The results indicate that the retention rate after a week of installation is higher for `gate_30` than that of `gate_40`. There could be many explanations behind this phenomenon, but what we do know for sure is that `gate_30` performs better than `gate_40` in terms of retaining long-term players. Therefore, the developers should adopt`gate_30` instead of `gate_40`. Perhaps, they could even lower the number to `gate_20` or even `gate_10` to see if that would be better. Anyways, we don't have the data so I guess we'll never know."
   ]
  }
 ],
 "metadata": {
  "kernelspec": {
   "display_name": "Python 3",
   "language": "python",
   "name": "python3"
  },
  "language_info": {
   "codemirror_mode": {
    "name": "ipython",
    "version": 3
   },
   "file_extension": ".py",
   "mimetype": "text/x-python",
   "name": "python",
   "nbconvert_exporter": "python",
   "pygments_lexer": "ipython3",
   "version": "3.12.1"
  },
  "papermill": {
   "default_parameters": {},
   "duration": 30.45592,
   "end_time": "2023-05-18T03:34:53.145839",
   "environment_variables": {},
   "exception": null,
   "input_path": "__notebook__.ipynb",
   "output_path": "__notebook__.ipynb",
   "parameters": {},
   "start_time": "2023-05-18T03:34:22.689919",
   "version": "2.4.0"
  }
 },
 "nbformat": 4,
 "nbformat_minor": 5
}
